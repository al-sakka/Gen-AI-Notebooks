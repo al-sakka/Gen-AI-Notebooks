{
  "nbformat": 4,
  "nbformat_minor": 0,
  "metadata": {
    "colab": {
      "provenance": [],
      "gpuType": "T4"
    },
    "kernelspec": {
      "name": "python3",
      "display_name": "Python 3"
    },
    "language_info": {
      "name": "python"
    },
    "accelerator": "GPU"
  },
  "cells": [
    {
      "cell_type": "code",
      "execution_count": null,
      "metadata": {
        "id": "SFHUWE37lbuW"
      },
      "outputs": [],
      "source": [
        "!pip install openai\n",
        "!pip install PyPDF2"
      ]
    },
    {
      "cell_type": "code",
      "source": [
        "import torch\n",
        "import PyPDF2\n",
        "import re\n",
        "from openai import OpenAI"
      ],
      "metadata": {
        "id": "PkSERKqvmo6L"
      },
      "execution_count": 2,
      "outputs": []
    },
    {
      "cell_type": "code",
      "source": [
        "device = torch.device(\"cuda\" if torch.cuda.is_available() else \"cpu\")\n",
        "\n",
        "# Checking if CUDA Connected Successfully\n",
        "print(device)"
      ],
      "metadata": {
        "colab": {
          "base_uri": "https://localhost:8080/"
        },
        "id": "nVrsfOVor3UM",
        "outputId": "3ae52b2f-7959-4cf3-a38a-a68593f7e103"
      },
      "execution_count": 3,
      "outputs": [
        {
          "output_type": "stream",
          "name": "stdout",
          "text": [
            "cuda\n"
          ]
        }
      ]
    },
    {
      "cell_type": "code",
      "source": [
        "GPT_API_KEY = 'sk-proj-XXXX-XXXX-XXXX'"
      ],
      "metadata": {
        "id": "hdbIaU_zl0PS"
      },
      "execution_count": 4,
      "outputs": []
    },
    {
      "cell_type": "code",
      "source": [
        "PDF_PATH = '/content/calculus_contents.pdf'"
      ],
      "metadata": {
        "id": "Hz-8IkgquEPT"
      },
      "execution_count": 5,
      "outputs": []
    },
    {
      "cell_type": "code",
      "source": [
        "# Function to remove URLs from the text\n",
        "def remove_links(text):\n",
        "    # Regex to match URLs (http, https, www)\n",
        "    url_pattern = r'http[s]?://\\S+|www\\.\\S+'\n",
        "    clean_text = re.sub(url_pattern, '', text)\n",
        "    return clean_text\n",
        "\n",
        "# Function to read the PDF file and extract text without links\n",
        "def read_pdf(file_path):\n",
        "    with open(file_path, 'rb') as file:\n",
        "        reader = PyPDF2.PdfReader(file)\n",
        "        text = \"\"\n",
        "        for page in range(len(reader.pages)):\n",
        "            page_text = reader.pages[page].extract_text()\n",
        "\n",
        "            # Remove links from each page's text\n",
        "            text += remove_links(page_text)\n",
        "        return text\n",
        "\n",
        "\n",
        "# Extract the text from the PDF\n",
        "pdf_content = read_pdf(PDF_PATH)\n",
        "\n",
        "# print(pdf_content)"
      ],
      "metadata": {
        "collapsed": true,
        "id": "3JbSiK3futgG"
      },
      "execution_count": 7,
      "outputs": []
    },
    {
      "cell_type": "code",
      "source": [
        "n_problems = 10\n",
        "n_distractors = 3"
      ],
      "metadata": {
        "id": "Pa3johbw2q7x"
      },
      "execution_count": 20,
      "outputs": []
    },
    {
      "cell_type": "code",
      "source": [
        "client = OpenAI(\n",
        "    api_key = GPT_API_KEY\n",
        ")\n",
        "\n",
        "completion = client.chat.completions.create(\n",
        "    model=\"gpt-4o\",\n",
        "    messages=[\n",
        "        {\n",
        "            \"role\": \"system\",\n",
        "            \"content\": \"You are a math teacher.\"\n",
        "        },\n",
        "        {\n",
        "            \"role\": \"user\",\n",
        "            \"content\": f\"Generate {n_problems} Math problems based on the content I will give you, don't give answers or distractors, the content: {pdf_content}\"\n",
        "        }\n",
        "    ]\n",
        ")"
      ],
      "metadata": {
        "id": "DveBVQhdmwWA"
      },
      "execution_count": 13,
      "outputs": []
    },
    {
      "cell_type": "code",
      "source": [
        "response = completion.choices[0].message.content\n",
        "\n",
        "print(response)"
      ],
      "metadata": {
        "colab": {
          "base_uri": "https://localhost:8080/"
        },
        "id": "ZhpyP4r6oM7P",
        "outputId": "e0f81108-26a1-4a57-f076-40457833d70f"
      },
      "execution_count": 14,
      "outputs": [
        {
          "output_type": "stream",
          "name": "stdout",
          "text": [
            "1. **Implicit Differentiation:**\n",
            "   - Given the implicit equation \\( xy + \\sin(y) = x^2 \\), find \\( \\frac{dy}{dx} \\).\n",
            "\n",
            "2. **Parametric Differentiation:**\n",
            "   - For the parametric equations \\( x = t^2 + 1 \\) and \\( y = t^3 - t \\), find \\( \\frac{dy}{dx} \\).\n",
            "\n",
            "3. **Higher Order Derivatives:**\n",
            "   - Find the second derivative of the function \\( y = e^{2x} \\cos(x) \\).\n",
            "\n",
            "4. **Tangent and Normal Lines:**\n",
            "   - Find the equation of the tangent line to the curve \\( y = x^3 - 3x + 2 \\) at the point \\( x = 1 \\).\n",
            "\n",
            "5. **Related Rates:**\n",
            "   - A spherical balloon is being inflated and its volume \\( V \\) is increasing at a rate of \\( 100 \\, \\text{cm}^3/\\text{s} \\). Find the rate at which the radius \\( r \\) of the balloon is increasing when the radius is \\( 10 \\, \\text{cm} \\).\n",
            "\n",
            "6. **Derivatives of Exponential and Logarithmic Functions:**\n",
            "   - Find the derivative of \\( y = x^x \\).\n",
            "\n",
            "7. **Integration:**\n",
            "   - Evaluate the indefinite integral \\( \\int e^{2x} \\, dx \\).\n",
            "\n",
            "8. **Increasing and Decreasing Functions:**\n",
            "   - Determine the intervals on which the function \\( f(x) = x^3 - 6x^2 + 9x + 15 \\) is increasing and decreasing.\n",
            "\n",
            "9. **Maxima and Minima:**\n",
            "   - Find the local maximum and minimum values of the function \\( f(x) = x^3 - 3x^2 + 4 \\).\n",
            "\n",
            "10. **Definite Integration:**\n",
            "    - Compute the area under the curve \\( y = \\ln(x) \\) from \\( x = 1 \\) to \\( x = 2 \\).\n",
            "\n",
            "Please use these problems as a basis for application and further understanding of calculus principles as outlined in your resources.\n"
          ]
        }
      ]
    },
    {
      "cell_type": "code",
      "source": [
        "completion = client.chat.completions.create(\n",
        "    model=\"gpt-4o\",\n",
        "    messages=[\n",
        "        {\n",
        "            \"role\": \"system\",\n",
        "            \"content\": \"You are a math teacher.\"\n",
        "        },\n",
        "        {\n",
        "            \"role\": \"user\",\n",
        "            \"content\": f\"Answer this {n_problems} math problems with the final answer only: {response}\"\n",
        "        }\n",
        "    ]\n",
        ")"
      ],
      "metadata": {
        "id": "H9Vlsn9izsO8"
      },
      "execution_count": 17,
      "outputs": []
    },
    {
      "cell_type": "code",
      "source": [
        "response2 = completion.choices[0].message.content\n",
        "\n",
        "print(response2)"
      ],
      "metadata": {
        "colab": {
          "base_uri": "https://localhost:8080/"
        },
        "id": "qnPZTInf0yL2",
        "outputId": "11f3c3c4-9bbe-45ba-b971-a53d7345b1ca"
      },
      "execution_count": 18,
      "outputs": [
        {
          "output_type": "stream",
          "name": "stdout",
          "text": [
            "Sure, here are the final answers to each of the math problems:\n",
            "\n",
            "1. \\( \\frac{dy}{dx} = \\frac{2x - y}{x + \\cos(y)} \\)\n",
            "\n",
            "2. \\( \\frac{dy}{dx} = 3t^2 \\left/ 2t \\right. = \\frac{3t}{2} \\)\n",
            "\n",
            "3. \\( y'' = e^{2x} (\\cos(x) - 4\\sin(x) - 5\\cos(x)) = e^{2x} (-3\\cos(x) - 4\\sin(x)) \\)\n",
            "\n",
            "4. Equation of the tangent line: \\( y = -1.5x + 3.5 \\)\n",
            "\n",
            "5. \\( \\frac{dr}{dt} = \\frac{5}{4\\pi} = \\frac{25}{20\\pi} = \\frac{5}{4\\pi} \\, \\text{cm/s} \\)\n",
            "\n",
            "6. \\( \\frac{dy}{dx} = x^x (\\ln(x) + 1) \\)\n",
            "\n",
            "7. \\( \\int e^{2x} \\, dx = \\frac{1}{2} e^{2x} + C \\)\n",
            "\n",
            "8. The function \\( f(x) \\) is:\n",
            "   - Increasing on the interval \\( (0, 1) \\cup (3, \\infty) \\)\n",
            "   - Decreasing on the interval \\( (-\\infty, 0) \\cup (1, 3) \\)\n",
            "\n",
            "9. Local maximum value is \\( f(0) = 4 \\) and no local minimum within given data.\n",
            "\n",
            "10. Area under the curve from \\( x = 1 \\) to \\( x = 2 \\):\n",
            "    \\( \\int_{1}^{2} \\ln(x) \\, dx = x \\ln(x) - x \\bigg|_1^2 = 2\\ln(2) - 2 - (1 \\cdot \\ln(1) - 1) = 2\\ln(2) - 1 \\)\n"
          ]
        }
      ]
    },
    {
      "cell_type": "code",
      "source": [
        "completion = client.chat.completions.create(\n",
        "    model=\"gpt-4o\",\n",
        "    messages=[\n",
        "        {\n",
        "            \"role\": \"system\",\n",
        "            \"content\": \"You are a math teacher.\"\n",
        "        },\n",
        "        {\n",
        "            \"role\": \"user\",\n",
        "            \"content\": f\"In this {n_problems} math answers generate {n_distractors} tricky distractors so I can use them to trick the students in MCQ questions, Answers: {response2}\"\n",
        "        }\n",
        "    ]\n",
        ")"
      ],
      "metadata": {
        "id": "nQntusQA3g6D"
      },
      "execution_count": 21,
      "outputs": []
    },
    {
      "cell_type": "code",
      "source": [
        "response3 = completion.choices[0].message.content\n",
        "\n",
        "print(response3)"
      ],
      "metadata": {
        "colab": {
          "base_uri": "https://localhost:8080/"
        },
        "id": "S_U7632Y4M6k",
        "outputId": "951e4ca2-87fd-462b-a466-d477a29a9f49"
      },
      "execution_count": 22,
      "outputs": [
        {
          "output_type": "stream",
          "name": "stdout",
          "text": [
            "Absolutely, here are the tricky distractors you can use for each answer in your multiple-choice questions:\n",
            "\n",
            "1. \\( \\frac{dy}{dx} = \\frac{2x - y}{x + \\cos(y)} \\)\n",
            "   - \\( \\frac{dy}{dx} = \\frac{2x - y}{x + \\sin(y)} \\)\n",
            "   - \\( \\frac{dy}{dx} = \\frac{2x + y}{x + \\cos(y)} \\)\n",
            "   - \\( \\frac{dy}{dx} = \\frac{x - y}{2x + \\cos(y)} \\)\n",
            "\n",
            "2. \\( \\frac{dy}{dx} = 3t^2 \\left/ 2t \\right. = \\frac{3t}{2} \\)\n",
            "   - \\( \\frac{dy}{dx} = \\frac{2t^2}{3t} = \\frac{2t}{3} \\)\n",
            "   - \\( \\frac{dy}{dx} = 3t^2 \\left/ t \\right. = 3t \\)\n",
            "   - \\( \\frac{dy}{dx} = \\frac{3t^2}{4t} = \\frac{3t}{4} \\)\n",
            "\n",
            "3. \\( y'' = e^{2x} (\\cos(x) - 4\\sin(x) - 5\\cos(x)) = e^{2x} (-3\\cos(x) - 4\\sin(x)) \\)\n",
            "   - \\( y'' = e^{2x} (\\sin(x) - 4\\cos(x) - 5\\sin(x)) = e^{2x} (-4\\cos(x) - 4\\sin(x)) \\)\n",
            "   - \\( y'' = e^{2x} (\\cos(x) - 4\\sin(x) + 5\\cos(x)) = e^{2x} (6\\cos(x) - 4\\sin(x)) \\)\n",
            "   - \\( y'' = e^{2x} (\\cos(x) - 3\\sin(x) - 5\\cos(x)) = e^{2x} (-4\\cos(x) - 3\\sin(x)) \\)\n",
            "\n",
            "4. Equation of the tangent line: \\( y = -1.5x + 3.5 \\)\n",
            "   - \\( y = -1.5x - 3.5 \\)\n",
            "   - \\( y = 1.5x + 3.5 \\)\n",
            "   - \\( y = -1.5x + 2.5 \\)\n",
            "\n",
            "5. \\( \\frac{dr}{dt} = \\frac{5}{4\\pi} = \\frac{25}{20\\pi} = \\frac{5}{4\\pi} \\, \\text{cm/s} \\)\n",
            "   - \\( \\frac{dr}{dt} = \\frac{5}{2\\pi} \\)\n",
            "   - \\( \\frac{dr}{dt} = \\frac{5}{\\pi} \\)\n",
            "   - \\( \\frac{dr}{dt} = \\frac{4}{5\\pi} \\)\n",
            "\n",
            "6. \\( \\frac{dy}{dx} = x^x (\\ln(x) + 1) \\)\n",
            "   - \\( \\frac{dy}{dx} = x^x (\\ln(x) - 1) \\)\n",
            "   - \\( \\frac{dy}{dx} = x^x \\ln(x) \\)\n",
            "   - \\( \\frac{dy}{dx} = x^x (\\ln(x) + 2) \\)\n",
            "\n",
            "7. \\( \\int e^{2x} \\, dx = \\frac{1}{2} e^{2x} + C \\)\n",
            "   - \\( \\int e^{2x} \\, dx = e^{2x} + C \\)\n",
            "   - \\( \\int e^{2x} \\, dx = \\frac{1}{3} e^{2x} + C \\)\n",
            "   - \\( \\int e^{2x} \\, dx = 2e^{2x} + C \\)\n",
            "\n",
            "8. The function \\( f(x) \\) is:\n",
            "   - Increasing on the interval \\( (0, 1) \\cup (3, \\infty) \\)\n",
            "   - Decreasing on the interval \\( (-\\infty, 0) \\cup (1, 3) \\)\n",
            "   - Increasing on \\( (0, 2) \\cup (4, \\infty) \\)\n",
            "   - Decreasing on \\( (-\\infty, 0) \\cup (2, 4) \\)\n",
            "   - Increasing on \\( (0, 1) \\cup (2, \\infty) \\)\n",
            "   - Decreasing on \\( (-\\infty, 0) \\cup (1, 2) \\)\n",
            "\n",
            "9. Local maximum value is \\( f(0) = 4 \\) and no local minimum within given data.\n",
            "   - Local maximum \\( f(1) = 4 \\)\n",
            "   - Local maximum \\( f(0) = 2 \\)\n",
            "   - Local maximum \\( f(2) = 4 \\)\n",
            "\n",
            "10. Area under the curve from \\( x = 1 \\) to \\( x = 2 \\):\n",
            "    \\( \\int_{1}^{2} \\ln(x) \\, dx = x \\ln(x) - x \\bigg|_1^2 = 2\\ln(2) - 2 - (1 \\cdot \\ln(1) - 1) = 2\\ln(2) - 1 \\)\n",
            "    - \\( \\int_{1}^{2} \\ln(x) \\, dx = x \\ln(x) \\bigg|_1^2 = 2\\ln(2) - 2 = 2\\ln(2) \\)\n",
            "    - \\( \\int_{1}^{2} \\ln(x) \\, dx = x \\ln(x) - x \\bigg|_1^2 = 2\\ln(2) - 2 - (1 \\cdot \\ln(2) - 1) = \\ln(2) - 1 \\)\n",
            "    - \\( \\int_{1}^{2} \\ln(x) \\, dx = x \\ln(x) - x \\bigg|_1^2 = 2 - 2\\ln(2) - 1 \\ln(1) - 1 = -2\\ln(2) + 1 \\)\n",
            "\n",
            "These distractors are designed to be plausible to ensure that students critically think through their options before selecting an answer.\n"
          ]
        }
      ]
    },
    {
      "cell_type": "code",
      "source": [
        "completion = client.chat.completions.create(\n",
        "    model=\"gpt-4o\",\n",
        "    messages=[\n",
        "        {\n",
        "            \"role\": \"system\",\n",
        "            \"content\": \"You are a math teacher.\"\n",
        "        },\n",
        "        {\n",
        "            \"role\": \"user\",\n",
        "            \"content\": f\"Merge this {n_problems} math problems and this {n_distractors + 1} possible answers to use them as {n_problems} MCQ exam, The problems: {response}, The possible answers: {response3}\"\n",
        "        }\n",
        "    ]\n",
        ")"
      ],
      "metadata": {
        "id": "_r1qsVYg4j_P"
      },
      "execution_count": 23,
      "outputs": []
    },
    {
      "cell_type": "code",
      "source": [
        "final_response = completion.choices[0].message.content\n",
        "\n",
        "print(final_response)"
      ],
      "metadata": {
        "colab": {
          "base_uri": "https://localhost:8080/"
        },
        "id": "M3tX4btc5ZeJ",
        "outputId": "7a458ed3-d79b-46a4-ca0e-5ad50b55c332"
      },
      "execution_count": 24,
      "outputs": [
        {
          "output_type": "stream",
          "name": "stdout",
          "text": [
            "Absolutely, here is your 10-question multiple-choice calculus exam created by merging the provided problems and possible answers:\n",
            "\n",
            "1. **Implicit Differentiation:**\n",
            "   Given the implicit equation \\( xy + \\sin(y) = x^2 \\), find \\( \\frac{dy}{dx} \\).\n",
            "   - a) \\( \\frac{dy}{dx} = \\frac{2x - y}{x + \\cos(y)} \\)\n",
            "   - b) \\( \\frac{dy}{dx} = \\frac{2x - y}{x + \\sin(y)} \\)\n",
            "   - c) \\( \\frac{dy}{dx} = \\frac{2x + y}{x + \\cos(y)} \\)\n",
            "   - d) \\( \\frac{dy}{dx} = \\frac{x - y}{2x + \\cos(y)} \\)\n",
            "\n",
            "2. **Parametric Differentiation:**\n",
            "   For the parametric equations \\( x = t^2 + 1 \\) and \\( y = t^3 - t \\), find \\( \\frac{dy}{dx} \\).\n",
            "   - a) \\( \\frac{dy}{dx} = 3t^2 \\left/ 2t \\right. = \\frac{3t}{2} \\)\n",
            "   - b) \\( \\frac{dy}{dx} = \\frac{2t^2}{3t} = \\frac{2t}{3} \\)\n",
            "   - c) \\( \\frac{dy}{dx} = 3t^2 \\left/ t \\right. = 3t \\)\n",
            "   - d) \\( \\frac{dy}{dx} = \\frac{3t^2}{4t} = \\frac{3t}{4} \\)\n",
            "\n",
            "3. **Higher Order Derivatives:**\n",
            "   Find the second derivative of the function \\( y = e^{2x} \\cos(x) \\).\n",
            "   - a) \\( y'' = e^{2x} (-3\\cos(x) - 4\\sin(x)) \\)\n",
            "   - b) \\( y'' = e^{2x} (-4\\cos(x) - 4\\sin(x)) \\)\n",
            "   - c) \\( y'' = e^{2x} (6\\cos(x) - 4\\sin(x)) \\)\n",
            "   - d) \\( y'' = e^{2x} (-4\\cos(x) - 3\\sin(x)) \\)\n",
            "\n",
            "4. **Tangent and Normal Lines:**\n",
            "   Find the equation of the tangent line to the curve \\( y = x^3 - 3x + 2 \\) at the point \\( x = 1 \\).\n",
            "   - a) Equation of the tangent line: \\( y = -1.5x + 3.5 \\)\n",
            "   - b) \\( y = -1.5x - 3.5 \\)\n",
            "   - c) \\( y = 1.5x + 3.5 \\)\n",
            "   - d) \\( y = -1.5x + 2.5 \\)\n",
            "\n",
            "5. **Related Rates:**\n",
            "   A spherical balloon is being inflated and its volume \\( V \\) is increasing at a rate of \\( 100 \\, \\text{cm}^3/\\text{s} \\). Find the rate at which the radius \\( r \\) of the balloon is increasing when the radius is \\( 10 \\, \\text{cm} \\).\n",
            "   - a) \\( \\frac{dr}{dt} = \\frac{5}{4\\pi} = \\frac{25}{20\\pi} = \\frac{5}{4\\pi} \\, \\text{cm/s} \\)\n",
            "   - b) \\( \\frac{dr}{dt} = \\frac{5}{2\\pi} \\)\n",
            "   - c) \\( \\frac{dr}{dt} = \\frac{5}{\\pi} \\)\n",
            "   - d) \\( \\frac{dr}{dt} = \\frac{4}{5\\pi} \\)\n",
            "\n",
            "6. **Derivatives of Exponential and Logarithmic Functions:**\n",
            "   Find the derivative of \\( y = x^x \\).\n",
            "   - a) \\( \\frac{dy}{dx} = x^x (\\ln(x) + 1) \\)\n",
            "   - b) \\( \\frac{dy}{dx} = x^x (\\ln(x) - 1) \\)\n",
            "   - c) \\( \\frac{dy}{dx} = x^x \\ln(x) \\)\n",
            "   - d) \\( \\frac{dy}{dx} = x^x (\\ln(x) + 2) \\)\n",
            "\n",
            "7. **Integration:**\n",
            "   Evaluate the indefinite integral \\( \\int e^{2x} \\, dx \\).\n",
            "   - a) \\( \\int e^{2x} \\, dx = \\frac{1}{2} e^{2x} + C \\)\n",
            "   - b) \\( \\int e^{2x} \\, dx = e^{2x} + C \\)\n",
            "   - c) \\( \\int e^{2x} \\, dx = \\frac{1}{3} e^{2x} + C \\)\n",
            "   - d) \\( \\int e^{2x} \\, dx = 2e^{2x} + C \\)\n",
            "\n",
            "8. **Increasing and Decreasing Functions:**\n",
            "   Determine the intervals on which the function \\( f(x) = x^3 - 6x^2 + 9x + 15 \\) is increasing and decreasing.\n",
            "   - a) The function \\( f(x) \\) is:\n",
            "   - Increasing on the interval \\( (0, 1) \\cup (3, \\infty) \\)\n",
            "   - Decreasing on the interval \\( (-\\infty, 0) \\cup (1, 3) \\)\n",
            "   - b) Increasing on \\( (0, 2) \\cup (4, \\infty) \\)\n",
            "   - Decreasing on \\( (-\\infty, 0) \\cup (2, 4) \\)\n",
            "   - c) Increasing on \\( (0, 1) \\cup (2, \\infty) \\)\n",
            "   - Decreasing on \\( (-\\infty, 0) \\cup (1, 2) \\)\n",
            "\n",
            "9. **Maxima and Minima:**\n",
            "   Find the local maximum and minimum values of the function \\( f(x) = x^3 - 3x^2 + 4 \\).\n",
            "   - a) Local maximum value is \\( f(0) = 4 \\) and no local minimum within given data.\n",
            "   - b) Local maximum \\( f(1) = 4 \\)\n",
            "   - c) Local maximum \\( f(0) = 2 \\)\n",
            "   - d) Local maximum \\( f(2) = 4 \\)\n",
            "\n",
            "10. **Definite Integration:**\n",
            "    Compute the area under the curve \\( y = \\ln(x) \\) from \\( x = 1 \\) to \\( x = 2 \\).\n",
            "    - a) Area under the curve from \\( x = 1 \\) to \\( x = 2 \\):\n",
            "    \\( \\int_{1}^{2} \\ln(x) \\, dx = x \\ln(x) - x \\bigg|_1^2 = 2\\ln(2) - 1 \\)\n",
            "    - b) \\( \\int_{1}^{2} \\ln(x) \\, dx = x \\ln(x) \\bigg|_1^2 = 2\\ln(2) - 2 = 2\\ln(2) \\)\n",
            "    - c) \\( \\int_{1}^{2} \\ln(x) \\, dx = x \\ln(x) - x \\bigg|_1^2 = 2\\ln(2) - 2 - (1 \\cdot \\ln(2) - 1) = \\ln(2) - 1 \\)\n",
            "    - d) \\( \\int_{1}^{2} \\ln(x) \\, dx = x \\ln(x) - x \\bigg|_1^2 = 2 - 2\\ln(2) - 1 \\ln(1) - 1 = -2\\ln(2) + 1 \\)\n",
            "\n",
            "Good luck to your students! Make sure they read each question carefully and utilize their calculus principles and techniques.\n"
          ]
        }
      ]
    }
  ]
}