{
  "nbformat": 4,
  "nbformat_minor": 0,
  "metadata": {
    "colab": {
      "provenance": [],
      "gpuType": "T4"
    },
    "kernelspec": {
      "name": "python3",
      "display_name": "Python 3"
    },
    "language_info": {
      "name": "python"
    },
    "accelerator": "GPU"
  },
  "cells": [
    {
      "cell_type": "markdown",
      "source": [
        "# **🧠 Chain Of Thoughts Using GPT-4o**"
      ],
      "metadata": {
        "id": "EYknQyoP-5WF"
      }
    },
    {
      "cell_type": "code",
      "execution_count": null,
      "metadata": {
        "id": "SFHUWE37lbuW"
      },
      "outputs": [],
      "source": [
        "!pip install openai\n",
        "!pip install PyPDF2"
      ]
    },
    {
      "cell_type": "code",
      "source": [
        "import torch\n",
        "import PyPDF2\n",
        "import re\n",
        "import time\n",
        "from openai import OpenAI"
      ],
      "metadata": {
        "id": "PkSERKqvmo6L"
      },
      "execution_count": 13,
      "outputs": []
    },
    {
      "cell_type": "code",
      "source": [
        "device = torch.device(\"cuda\" if torch.cuda.is_available() else \"cpu\")\n",
        "\n",
        "# Checking if CUDA Connected Successfully\n",
        "print(device)"
      ],
      "metadata": {
        "id": "nVrsfOVor3UM"
      },
      "execution_count": null,
      "outputs": []
    },
    {
      "cell_type": "code",
      "source": [
        "KEY_PATH = '/content/key.txt'\n",
        "\n",
        "with open(KEY_PATH, 'r') as file:\n",
        "    text = file.read()\n",
        "\n",
        "GPT_API_KEY = f\"{text}\""
      ],
      "metadata": {
        "id": "hdbIaU_zl0PS"
      },
      "execution_count": 24,
      "outputs": []
    },
    {
      "cell_type": "code",
      "source": [
        "PDF_PATH = '/content/calculus_contents.pdf'"
      ],
      "metadata": {
        "id": "Hz-8IkgquEPT"
      },
      "execution_count": 17,
      "outputs": []
    },
    {
      "cell_type": "code",
      "source": [
        "# Function to remove URLs from the text\n",
        "def remove_links(text):\n",
        "    # Regex to match URLs (http, https, www)\n",
        "    url_pattern = r'http[s]?://\\S+|www\\.\\S+'\n",
        "    clean_text = re.sub(url_pattern, '', text)\n",
        "    return clean_text\n",
        "\n",
        "# Function to read the PDF file and extract text without links\n",
        "def read_pdf(file_path):\n",
        "    with open(file_path, 'rb') as file:\n",
        "        reader = PyPDF2.PdfReader(file)\n",
        "        text = \"\"\n",
        "        for page in range(len(reader.pages)):\n",
        "            page_text = reader.pages[page].extract_text()\n",
        "\n",
        "            # Remove links from each page's text\n",
        "            text += remove_links(page_text)\n",
        "        return text\n",
        "\n",
        "\n",
        "# Extract the text from the PDF\n",
        "pdf_content = read_pdf(PDF_PATH)\n",
        "\n",
        "# print(pdf_content)"
      ],
      "metadata": {
        "collapsed": true,
        "id": "3JbSiK3futgG"
      },
      "execution_count": 18,
      "outputs": []
    },
    {
      "cell_type": "code",
      "source": [
        "n_problems = 10\n",
        "n_distractors = 3\n",
        "\n",
        "problems_mode = 'hard'  # Easy - Medium - Hard"
      ],
      "metadata": {
        "id": "Pa3johbw2q7x"
      },
      "execution_count": 19,
      "outputs": []
    },
    {
      "cell_type": "code",
      "source": [
        "responses = ['', '', '', '']\n",
        "\n",
        "def getPrompt(responses, n):\n",
        "\n",
        "  if   (n == 1):\n",
        "    return f\"Generate {n_problems} Math problems based on the content I will give you, don't give answers or distractors, the content: {pdf_content}\"\n",
        "\n",
        "  elif (n == 2):\n",
        "    return f\"Answer this {n_problems} math problems with the final answer only: {responses[0]}\"\n",
        "\n",
        "  elif (n == 3):\n",
        "    return f\"In this {n_problems} math answers generate {n_distractors} tricky distractors so I can use them to trick the students in MCQ questions, Answers: {responses[1]}\"\n",
        "\n",
        "  elif (n == 4):\n",
        "    return f\"Merge this {n_problems} math problems and this {n_distractors + 1} possible answers to use them as {n_problems} MCQ exam, The problems: {responses[0]}, The possible answers: {responses[2]}\""
      ],
      "metadata": {
        "id": "ERDkWSda_Ozs"
      },
      "execution_count": 20,
      "outputs": []
    },
    {
      "cell_type": "code",
      "source": [
        "client = OpenAI(\n",
        "    api_key = GPT_API_KEY\n",
        ")"
      ],
      "metadata": {
        "id": "9laKMK_5DvND"
      },
      "execution_count": 21,
      "outputs": []
    },
    {
      "cell_type": "code",
      "source": [
        "MODEL = \"gpt-4o\"\n",
        "MAX_TOKENS = 1000\n",
        "TEMP = 0.2\n",
        "\n",
        "for i in range(0, 4):\n",
        "  completion = client.chat.completions.create(\n",
        "      model = MODEL,\n",
        "      # max_tokens = MAX_TOKENS,\n",
        "      temperature = TEMP,\n",
        "\n",
        "      messages=[\n",
        "          {\n",
        "              \"role\" : \"system\",\n",
        "              \"content\" : f\"You are an expert AI assistant with advanced reasoning capabilities in mathematics. Your task is to generate {problems_mode} multiple choice math exam to students to solve it\"\n",
        "          },\n",
        "\n",
        "          {\n",
        "              \"role\" : \"user\",\n",
        "              \"content\" : getPrompt(responses, (i + 1))\n",
        "          },\n",
        "\n",
        "          {\n",
        "              \"role\" : \"assistant\",\n",
        "              \"content\" : \"Thank you! I will now think step by step following my instructions, starting at the beginning after decomposing the problem.\"\n",
        "          }\n",
        "      ]\n",
        "  )\n",
        "  responses[i] = completion.choices[0].message.content\n",
        "  time.sleep(0.1)"
      ],
      "metadata": {
        "id": "DveBVQhdmwWA"
      },
      "execution_count": 25,
      "outputs": []
    },
    {
      "cell_type": "code",
      "source": [
        "print(responses[3])"
      ],
      "metadata": {
        "colab": {
          "base_uri": "https://localhost:8080/"
        },
        "id": "ZhpyP4r6oM7P",
        "outputId": "c1cf0883-8425-448c-9d91-4dc8b42beaf9"
      },
      "execution_count": 26,
      "outputs": [
        {
          "output_type": "stream",
          "name": "stdout",
          "text": [
            "### Calculus Exam: Multiple Choice Questions\n",
            "\n",
            "1. **Differentiation of Trigonometric Functions**\n",
            "   What is the derivative of \\( f(x) = \\sec^{-1}(x) \\)?\n",
            "   - A) \\( \\frac{1}{|x|\\sqrt{x^2 - 1}} \\)\n",
            "   - B) \\( \\frac{1}{x\\sqrt{x^2 - 1}} \\)\n",
            "   - C) \\( \\frac{1}{\\sqrt{x^2 - 1}} \\)\n",
            "   - D) \\( \\frac{1}{|x|} \\)\n",
            "\n",
            "2. **Implicit Differentiation**\n",
            "   For the equation \\( x^2 + y^2 = 25 \\), what is \\( \\frac{dy}{dx} \\)?\n",
            "   - A) \\( -\\frac{x}{y} \\)\n",
            "   - B) \\( \\frac{y}{x} \\)\n",
            "   - C) \\( \\frac{x}{y} \\)\n",
            "   - D) \\( -\\frac{y}{x} \\)\n",
            "\n",
            "3. **Parametric Differentiation**\n",
            "   For the parametric equations \\( x = t^2 + 1 \\) and \\( y = t^3 - t \\), what is \\( \\frac{dy}{dx} \\)?\n",
            "   - A) \\( \\frac{3t^2 - 1}{2t} \\)\n",
            "   - B) \\( \\frac{3t^2 + 1}{2t} \\)\n",
            "   - C) \\( \\frac{3t - 1}{2t} \\)\n",
            "   - D) \\( \\frac{3t^2 - 1}{t} \\)\n",
            "\n",
            "4. **Higher Derivatives**\n",
            "   What is the second derivative \\( \\frac{d^2y}{dx^2} \\) for the function \\( y = e^{3x} \\sin(x) \\)?\n",
            "   - A) \\( 2e^{3x} \\cos(x) \\)\n",
            "   - B) \\( 3e^{3x} \\cos(x) \\)\n",
            "   - C) \\( 2e^{3x} \\sin(x) \\)\n",
            "   - D) \\( e^{3x} \\cos(x) \\)\n",
            "\n",
            "5. **Tangent and Normal Lines**\n",
            "   What is the equation of the tangent line to the curve \\( y = x^3 - 3x + 2 \\) at the point where \\( x = 1 \\)?\n",
            "   - A) \\( y = 3x \\)\n",
            "   - B) \\( y = 3x + 1 \\)\n",
            "   - C) \\( y = 3x - 1 \\)\n",
            "   - D) \\( y = x^3 - 3x + 2 \\)\n",
            "\n",
            "6. **Related Rates**\n",
            "   What is the rate at which the volume of the balloon is increasing when the radius is 5 cm?\n",
            "   - A) \\( 200\\pi \\) cm³/min\n",
            "   - B) \\( 100\\pi \\) cm³/min\n",
            "   - C) \\( 250\\pi \\) cm³/min\n",
            "   - D) \\( 150\\pi \\) cm³/min\n",
            "\n",
            "7. **Exponential and Logarithmic Functions**\n",
            "   What is the derivative of the function \\( f(x) = e^{2x} \\ln(x) \\)?\n",
            "   - A) \\( e^{2x} \\left( \\frac{1}{x} + 2\\ln(x) \\right) \\)\n",
            "   - B) \\( e^{2x} \\left( \\frac{1}{x} + \\ln(x) \\right) \\)\n",
            "   - C) \\( e^{2x} \\left( \\frac{2}{x} + 2\\ln(x) \\right) \\)\n",
            "   - D) \\( e^{2x} \\left( \\frac{1}{x} + 2 \\right) \\)\n",
            "\n",
            "8. **Integration of Exponential Functions**\n",
            "   What is the indefinite integral \\( \\int e^{3x} \\, dx \\)?\n",
            "   - A) \\( \\frac{1}{3} e^{3x} + C \\)\n",
            "   - B) \\( 3 e^{3x} + C \\)\n",
            "   - C) \\( e^{3x} + C \\)\n",
            "   - D) \\( \\frac{1}{2} e^{3x} + C \\)\n",
            "\n",
            "9. **Curve Sketching**\n",
            "   On which intervals is the function \\( f(x) = x^3 - 6x^2 + 9x + 1 \\) increasing?\n",
            "   - A) \\( (0, 3) \\)\n",
            "   - B) \\( (-\\infty, 0) \\)\n",
            "   - C) \\( (3, \\infty) \\)\n",
            "   - D) \\( (-\\infty, \\infty) \\)\n",
            "\n",
            "10. **Definite Integration**\n",
            "    What is the definite integral \\( \\int_{0}^{2} (4x - x^2) \\, dx \\)?\n",
            "    - A) \\( \\frac{16}{3} \\)\n",
            "    - B) \\( \\frac{8}{3} \\)\n",
            "    - C) \\( \\frac{32}{3} \\)\n",
            "    - D) \\( \\frac{4}{3} \\)\n",
            "\n",
            "These questions and distractors should provide a challenging and comprehensive test for students.\n"
          ]
        }
      ]
    }
  ]
}