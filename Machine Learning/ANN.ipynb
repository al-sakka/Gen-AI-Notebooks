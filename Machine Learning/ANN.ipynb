{
  "nbformat": 4,
  "nbformat_minor": 0,
  "metadata": {
    "colab": {
      "provenance": []
    },
    "kernelspec": {
      "name": "python3",
      "display_name": "Python 3"
    },
    "language_info": {
      "name": "python"
    }
  },
  "cells": [
    {
      "cell_type": "markdown",
      "source": [
        "# **Basic XOR ANN using NumPy**"
      ],
      "metadata": {
        "id": "isDDzI20msni"
      }
    },
    {
      "cell_type": "code",
      "execution_count": 1,
      "metadata": {
        "colab": {
          "base_uri": "https://localhost:8080/"
        },
        "id": "dB7mU9XHy-8B",
        "outputId": "0ce4d63f-b3b7-43a9-e295-dc0ce2e33ab7"
      },
      "outputs": [
        {
          "output_type": "stream",
          "name": "stdout",
          "text": [
            "Trained Weights (Input -> Hidden):\n",
            "[[0.92668235 7.72650589]\n",
            " [0.92668541 7.7282175 ]]\n",
            "Trained Weights (Hidden -> Output):\n",
            "[[-33.20972541]\n",
            " [ 26.41319563]]\n",
            "\n",
            "Output after training:\n",
            "[[0.03234997]\n",
            " [0.93150506]\n",
            " [0.93150511]\n",
            " [0.09134328]]\n",
            "\n",
            "Output after training (rounded):\n",
            "[[0.]\n",
            " [1.]\n",
            " [1.]\n",
            " [0.]]\n"
          ]
        }
      ],
      "source": [
        "import numpy as np\n",
        "\n",
        "# Define the sigmoid function and its derivative\n",
        "def sigmoid(x):\n",
        "    return 1 / (1 + np.exp(-x))\n",
        "\n",
        "def sigmoid_derivative(x):\n",
        "    return x * (1 - x)\n",
        "\n",
        "# XOR input and output data\n",
        "X = np.array([[0, 0], [0, 1], [1, 0], [1, 1]])\n",
        "y = np.array([[0], [1], [1], [0]])\n",
        "\n",
        "# Initialize weights randomly\n",
        "np.random.seed(42)\n",
        "weights_input_hidden = np.random.rand(2, 2)  # 2 input neurons, 2 hidden neurons\n",
        "weights_hidden_output = np.random.rand(2, 1) # 2 hidden neurons, 1 output neuron\n",
        "\n",
        "# Set learning rate and number of epochs\n",
        "learning_rate = 0.1\n",
        "epochs = 100000\n",
        "\n",
        "# Training loop\n",
        "for epoch in range(epochs):\n",
        "    # Forward propagation\n",
        "    hidden_input = np.dot(X, weights_input_hidden)\n",
        "    hidden_output = sigmoid(hidden_input)\n",
        "\n",
        "    final_input = np.dot(hidden_output, weights_hidden_output)\n",
        "    final_output = sigmoid(final_input)\n",
        "\n",
        "    # Calculate the error\n",
        "    error = y - final_output\n",
        "\n",
        "    # Backward propagation\n",
        "    d_output = error * sigmoid_derivative(final_output)\n",
        "\n",
        "    error_hidden_layer = d_output.dot(weights_hidden_output.T)\n",
        "    d_hidden_layer = error_hidden_layer * sigmoid_derivative(hidden_output)\n",
        "\n",
        "    # Update weights\n",
        "    weights_hidden_output += hidden_output.T.dot(d_output) * learning_rate\n",
        "    weights_input_hidden += X.T.dot(d_hidden_layer) * learning_rate\n",
        "\n",
        "# Testing the trained network\n",
        "print(\"Trained Weights (Input -> Hidden):\")\n",
        "print(weights_input_hidden)\n",
        "print(\"Trained Weights (Hidden -> Output):\")\n",
        "print(weights_hidden_output)\n",
        "\n",
        "print(\"\\nOutput after training:\")\n",
        "print(final_output)\n",
        "\n",
        "print(\"\\nOutput after training (rounded):\")\n",
        "print(np.round(final_output))\n"
      ]
    }
  ]
}