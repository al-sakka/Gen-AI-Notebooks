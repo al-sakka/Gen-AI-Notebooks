{
  "nbformat": 4,
  "nbformat_minor": 0,
  "metadata": {
    "colab": {
      "provenance": []
    },
    "kernelspec": {
      "name": "python3",
      "display_name": "Python 3"
    },
    "language_info": {
      "name": "python"
    }
  },
  "cells": [
    {
      "cell_type": "markdown",
      "source": [
        "# **📈 An Overview of [NumPy](https://numpy.org/) Library with Examples.**"
      ],
      "metadata": {
        "id": "dSbaKuyFn_B_"
      }
    },
    {
      "cell_type": "code",
      "source": [
        "# An unofficial standard to use np for numpy\n",
        "import numpy as np\n",
        "import time"
      ],
      "metadata": {
        "id": "7oHzttEForUQ"
      },
      "execution_count": 2,
      "outputs": []
    },
    {
      "cell_type": "markdown",
      "source": [
        "**Vector Creation**"
      ],
      "metadata": {
        "id": "EMozsPjYoXc1"
      }
    },
    {
      "cell_type": "code",
      "execution_count": 7,
      "metadata": {
        "colab": {
          "base_uri": "https://localhost:8080/"
        },
        "id": "JmVk3tcen3Lv",
        "outputId": "512c65fb-2692-42a4-a92c-4f7483171b01"
      },
      "outputs": [
        {
          "output_type": "stream",
          "name": "stdout",
          "text": [
            "a = [0. 0. 0. 0.]\n",
            "shape of a = (4,)\n",
            "type of data stored in a = float64\n"
          ]
        }
      ],
      "source": [
        "a = np.zeros(4)\n",
        "\n",
        "print(f\"a = {a}\")\n",
        "print(f\"shape of a = {a.shape}\")\n",
        "print(f\"type of data stored in a = {a.dtype}\")"
      ]
    },
    {
      "cell_type": "code",
      "source": [
        "a = np.zeros((4,))\n",
        "\n",
        "print(f\"a = {a}\")\n",
        "print(f\"shape of a = {a.shape}\")\n",
        "print(f\"type of data stored in a = {a.dtype}\")"
      ],
      "metadata": {
        "colab": {
          "base_uri": "https://localhost:8080/"
        },
        "id": "yNreUxqypfDQ",
        "outputId": "ff7e52c7-9870-4184-f594-15c1c9992c4f"
      },
      "execution_count": 8,
      "outputs": [
        {
          "output_type": "stream",
          "name": "stdout",
          "text": [
            "a = [0. 0. 0. 0.]\n",
            "shape of a = (4,)\n",
            "type of data stored in a = float64\n"
          ]
        }
      ]
    },
    {
      "cell_type": "code",
      "source": [
        "a = np.random.random_sample(4)\n",
        "\n",
        "print(f\"a = {a}\")\n",
        "print(f\"shape of a = {a.shape}\")\n",
        "print(f\"type of data stored in a = {a.dtype}\")"
      ],
      "metadata": {
        "colab": {
          "base_uri": "https://localhost:8080/"
        },
        "id": "Gn_vUXbWplv3",
        "outputId": "f83ab6ee-d343-414e-c10b-7912f0ad6380"
      },
      "execution_count": 9,
      "outputs": [
        {
          "output_type": "stream",
          "name": "stdout",
          "text": [
            "a = [0.01289678 0.29515889 0.62550219 0.98002197]\n",
            "shape of a = (4,)\n",
            "type of data stored in a = float64\n"
          ]
        }
      ]
    },
    {
      "cell_type": "code",
      "source": [
        "a = np.random.rand(4)\n",
        "\n",
        "print(f\"a = {a}\")\n",
        "print(f\"shape of a = {a.shape}\")\n",
        "print(f\"type of data stored in a = {a.dtype}\")"
      ],
      "metadata": {
        "colab": {
          "base_uri": "https://localhost:8080/"
        },
        "id": "Sg0uhu_dqGOT",
        "outputId": "27487b9e-c6f8-449f-d96a-698caaf66189"
      },
      "execution_count": 13,
      "outputs": [
        {
          "output_type": "stream",
          "name": "stdout",
          "text": [
            "a = [0.15027674 0.42928648 0.17898708 0.00664663]\n",
            "shape of a = (4,)\n",
            "type of data stored in a = float64\n"
          ]
        }
      ]
    },
    {
      "cell_type": "code",
      "source": [
        "n = 4\n",
        "a = np.arange(n) # from 0 to n - 1\n",
        "\n",
        "print(f\"a = {a}\")\n",
        "print(f\"shape of a = {a.shape}\")\n",
        "print(f\"type of data stored in a = {a.dtype}\")"
      ],
      "metadata": {
        "colab": {
          "base_uri": "https://localhost:8080/"
        },
        "id": "JLmU_tk3pvYp",
        "outputId": "b724c9ad-247c-4928-d109-0449c10123a9"
      },
      "execution_count": 12,
      "outputs": [
        {
          "output_type": "stream",
          "name": "stdout",
          "text": [
            "a = [0 1 2 3]\n",
            "shape of a = (4,)\n",
            "type of data stored in a = int64\n"
          ]
        }
      ]
    },
    {
      "cell_type": "code",
      "source": [
        "# manually\n",
        "\n",
        "a = np.array([6, 9, 12, 32])\n",
        "\n",
        "print(f\"a = {a}\")\n",
        "print(f\"shape of a = {a.shape}\")\n",
        "print(f\"type of data stored in a = {a.dtype}\") # int\n",
        "\n",
        "a = np.array([6., 9., 12., 32.])\n",
        "\n",
        "print(f\"a = {a}\")\n",
        "print(f\"shape of a = {a.shape}\")\n",
        "print(f\"type of data stored in a = {a.dtype}\") # float"
      ],
      "metadata": {
        "colab": {
          "base_uri": "https://localhost:8080/"
        },
        "id": "xwg1oqKSqMhi",
        "outputId": "83604bae-62ca-4f90-abaf-efaa5598fd8a"
      },
      "execution_count": 15,
      "outputs": [
        {
          "output_type": "stream",
          "name": "stdout",
          "text": [
            "a = [ 6  9 12 32]\n",
            "shape of a = (4,)\n",
            "type of data stored in a = int64\n",
            "a = [ 6.  9. 12. 32.]\n",
            "shape of a = (4,)\n",
            "type of data stored in a = float64\n"
          ]
        }
      ]
    },
    {
      "cell_type": "markdown",
      "source": [
        "**Operations on Vectors**"
      ],
      "metadata": {
        "id": "iI4ZFM-hqluN"
      }
    },
    {
      "cell_type": "code",
      "source": [
        "a = np.arange(10)\n",
        "print(a)\n",
        "\n",
        "#indexs must be within the range of the vector or they will produce and error\n",
        "\n",
        "first_element = a[0]\n",
        "print(first_element)\n",
        "\n",
        "third_element = a[2]\n",
        "print(third_element)\n",
        "\n",
        "# negative indexes count from the end\n",
        "last_element = a[-1]\n",
        "print(last_element)"
      ],
      "metadata": {
        "colab": {
          "base_uri": "https://localhost:8080/"
        },
        "id": "deEs8Rqkqq8L",
        "outputId": "149db853-aaf3-4023-d2ef-8fd2f116659a"
      },
      "execution_count": 21,
      "outputs": [
        {
          "output_type": "stream",
          "name": "stdout",
          "text": [
            "[0 1 2 3 4 5 6 7 8 9]\n",
            "0\n",
            "2\n",
            "9\n"
          ]
        }
      ]
    },
    {
      "cell_type": "markdown",
      "source": [
        "**Slicing**"
      ],
      "metadata": {
        "id": "-z_m2HWqrVjr"
      }
    },
    {
      "cell_type": "code",
      "source": [
        "#vector slicing operations\n",
        "a = np.arange(10)\n",
        "print(f\"a         = {a}\")\n",
        "\n",
        "#access 5 consecutive elements (start:stop:step)\n",
        "c = a[2:7:1];     print(\"a[2:7:1] = \", c)\n",
        "\n",
        "# access 3 elements separated by two\n",
        "c = a[2:7:2];     print(\"a[2:7:2] = \", c)\n",
        "\n",
        "# access all elements index 3 and above\n",
        "c = a[3:];        print(\"a[3:]    = \", c)\n",
        "\n",
        "# access all elements below index 3\n",
        "c = a[:3];        print(\"a[:3]    = \", c)\n",
        "\n",
        "# access all elements\n",
        "c = a[:];         print(\"a[:]     = \", c)"
      ],
      "metadata": {
        "colab": {
          "base_uri": "https://localhost:8080/"
        },
        "id": "bGTzRMiJrTu5",
        "outputId": "2315f661-e10e-423a-cef0-7482494189f7"
      },
      "execution_count": 22,
      "outputs": [
        {
          "output_type": "stream",
          "name": "stdout",
          "text": [
            "a         = [0 1 2 3 4 5 6 7 8 9]\n",
            "a[2:7:1] =  [2 3 4 5 6]\n",
            "a[2:7:2] =  [2 4 6]\n",
            "a[3:]    =  [3 4 5 6 7 8 9]\n",
            "a[:3]    =  [0 1 2]\n",
            "a[:]     =  [0 1 2 3 4 5 6 7 8 9]\n"
          ]
        }
      ]
    },
    {
      "cell_type": "markdown",
      "source": [
        "**Single vector operations**"
      ],
      "metadata": {
        "id": "6H_-wBd7rqSy"
      }
    },
    {
      "cell_type": "code",
      "source": [
        "a = np.array([1,2,3,4])\n",
        "print(f\"a             : {a}\")\n",
        "# negate elements of a\n",
        "b = -a\n",
        "print(f\"b = -a        : {b}\")\n",
        "\n",
        "# sum all elements of a, returns a scalar\n",
        "b = np.sum(a)\n",
        "print(f\"b = np.sum(a) : {b}\")\n",
        "\n",
        "b = np.mean(a)\n",
        "print(f\"b = np.mean(a): {b}\")\n",
        "\n",
        "b = a**2\n",
        "print(f\"b = a**2      : {b}\")"
      ],
      "metadata": {
        "colab": {
          "base_uri": "https://localhost:8080/"
        },
        "id": "oMp4Cb5drr56",
        "outputId": "db9f96f2-a068-4800-dc61-52aff39993c3"
      },
      "execution_count": 23,
      "outputs": [
        {
          "output_type": "stream",
          "name": "stdout",
          "text": [
            "a             : [1 2 3 4]\n",
            "b = -a        : [-1 -2 -3 -4]\n",
            "b = np.sum(a) : 10\n",
            "b = np.mean(a): 2.5\n",
            "b = a**2      : [ 1  4  9 16]\n"
          ]
        }
      ]
    },
    {
      "cell_type": "markdown",
      "source": [
        "**Vector Vector element-wise operations**"
      ],
      "metadata": {
        "id": "z0vp576fr20L"
      }
    },
    {
      "cell_type": "code",
      "source": [
        "# Of course, for this to work correctly, the vectors must be of the same size\n",
        "a = np.array([ 1, 2, 3, 4])\n",
        "b = np.array([-1,-2, 3, 4])\n",
        "print(f\"Binary operators work element wise: {a + b}\")"
      ],
      "metadata": {
        "colab": {
          "base_uri": "https://localhost:8080/"
        },
        "id": "cXVAAfIsr30l",
        "outputId": "cb112ac9-3dd8-4157-f378-f2efa3dfc5c1"
      },
      "execution_count": 27,
      "outputs": [
        {
          "output_type": "stream",
          "name": "stdout",
          "text": [
            "Binary operators work element wise: [0 0 6 8]\n"
          ]
        }
      ]
    },
    {
      "cell_type": "markdown",
      "source": [
        "**Scalar Vector operations**"
      ],
      "metadata": {
        "id": "qF1uy1ZusEq5"
      }
    },
    {
      "cell_type": "code",
      "source": [
        "a = np.array([1, 2, 3, 4])\n",
        "\n",
        "# multiply a by a scalar\n",
        "b = 5 * a\n",
        "print(f\"b = 5 * a : {b}\")"
      ],
      "metadata": {
        "colab": {
          "base_uri": "https://localhost:8080/"
        },
        "id": "w0bzUsYXsAE6",
        "outputId": "b596279f-66b5-483b-c6fa-e432618021e1"
      },
      "execution_count": 28,
      "outputs": [
        {
          "output_type": "stream",
          "name": "stdout",
          "text": [
            "b = 5 * a : [ 5 10 15 20]\n"
          ]
        }
      ]
    },
    {
      "cell_type": "markdown",
      "source": [
        "**Dot product**\n",
        "\n",
        "Will return given inputs $a$ and $b$:\n",
        "$$ x = \\sum_{i=0}^{n-1} a_i b_i $$\n",
        "Assume both `a` and `b` are the same shape."
      ],
      "metadata": {
        "id": "cgnnsJm4sPb5"
      }
    },
    {
      "cell_type": "code",
      "source": [
        "# 1-D\n",
        "a = np.array([1, 2, 3, 4])\n",
        "b = np.array([-1, 4, 3, 2])\n",
        "c = np.dot(a, b)\n",
        "print(f\"NumPy 1-D np.dot(a, b) = {c}, np.dot(a, b).shape = {c.shape} \")\n",
        "c = np.dot(b, a)\n",
        "print(f\"NumPy 1-D np.dot(b, a) = {c}, np.dot(a, b).shape = {c.shape} \")"
      ],
      "metadata": {
        "colab": {
          "base_uri": "https://localhost:8080/"
        },
        "id": "BdrJHyo0sSli",
        "outputId": "fe63a64e-3c0a-402c-d914-f09ae2534dce"
      },
      "execution_count": 30,
      "outputs": [
        {
          "output_type": "stream",
          "name": "stdout",
          "text": [
            "NumPy 1-D np.dot(a, b) = 24, np.dot(a, b).shape = () \n",
            "NumPy 1-D np.dot(b, a) = 24, np.dot(a, b).shape = () \n"
          ]
        }
      ]
    },
    {
      "cell_type": "markdown",
      "source": [
        "**vector vs for loop**"
      ],
      "metadata": {
        "id": "RRjTZGk_s5jb"
      }
    },
    {
      "cell_type": "code",
      "source": [
        "def my_dot(a, b):\n",
        "    x=0\n",
        "    for i in range(a.shape[0]):\n",
        "        x = x + a[i] * b[i]\n",
        "    return x"
      ],
      "metadata": {
        "id": "YmdMVW3AtCsm"
      },
      "execution_count": 33,
      "outputs": []
    },
    {
      "cell_type": "code",
      "source": [
        "np.random.seed(1)\n",
        "a = np.random.rand(10000000)  # very large arrays\n",
        "b = np.random.rand(10000000)\n",
        "\n",
        "tic = time.time()  # capture start time\n",
        "c = np.dot(a, b)\n",
        "toc = time.time()  # capture end time\n",
        "\n",
        "print(f\"np.dot(a, b) =  {c:.4f}\")\n",
        "print(f\"Vectorized version duration: {1000*(toc-tic):.4f} ms \")\n",
        "\n",
        "tic = time.time()  # capture start time\n",
        "c = my_dot(a,b)\n",
        "toc = time.time()  # capture end time\n",
        "\n",
        "print(f\"my_dot(a, b) =  {c:.4f}\")\n",
        "print(f\"loop version duration: {1000*(toc-tic):.4f} ms \")\n",
        "\n",
        "del(a);del(b)  #remove these big arrays from memory"
      ],
      "metadata": {
        "colab": {
          "base_uri": "https://localhost:8080/"
        },
        "id": "XhjdnEmUs6dt",
        "outputId": "963382d6-db57-43b5-f453-3c12223d6847"
      },
      "execution_count": 34,
      "outputs": [
        {
          "output_type": "stream",
          "name": "stdout",
          "text": [
            "np.dot(a, b) =  2501072.5817\n",
            "Vectorized version duration: 11.4589 ms \n",
            "my_dot(a, b) =  2501072.5817\n",
            "loop version duration: 3736.1650 ms \n"
          ]
        }
      ]
    },
    {
      "cell_type": "markdown",
      "source": [
        "So, vectorization provides a large speed up in this example. This is because NumPy makes better use of available data parallelism in the underlying hardware."
      ],
      "metadata": {
        "id": "0jlTdefrtQP-"
      }
    },
    {
      "cell_type": "markdown",
      "source": [
        "**Vector Vector operations**"
      ],
      "metadata": {
        "id": "RS3ChoEUtRGl"
      }
    },
    {
      "cell_type": "code",
      "source": [
        "X = np.array([[1],[2],[3],[4]])\n",
        "w = np.array([2])\n",
        "c = np.dot(X[1], w)\n",
        "\n",
        "print(f\"X[1] has shape {X[1].shape}\")\n",
        "print(f\"w has shape {w.shape}\")\n",
        "print(f\"c has shape {c.shape}\")"
      ],
      "metadata": {
        "colab": {
          "base_uri": "https://localhost:8080/"
        },
        "id": "WjUYoSnatV5j",
        "outputId": "a0d5924c-99bd-4db8-8cd4-e9cfa54f7c82"
      },
      "execution_count": 36,
      "outputs": [
        {
          "output_type": "stream",
          "name": "stdout",
          "text": [
            "X[1] has shape (1,)\n",
            "w has shape (1,)\n",
            "c has shape ()\n"
          ]
        }
      ]
    },
    {
      "cell_type": "markdown",
      "source": [
        "**Matrices**"
      ],
      "metadata": {
        "id": "gOdyZDybtrQd"
      }
    },
    {
      "cell_type": "code",
      "source": [
        "a = np.zeros((1, 5))\n",
        "print(f\"a shape = {a.shape}, a = {a}\")\n",
        "\n",
        "a = np.zeros((2, 1))\n",
        "print(f\"a shape = {a.shape}, a = {a}\")\n",
        "\n",
        "a = np.random.random_sample((1, 1))\n",
        "print(f\"a shape = {a.shape}, a = {a}\")"
      ],
      "metadata": {
        "colab": {
          "base_uri": "https://localhost:8080/"
        },
        "id": "AxRXNQ5ttsHX",
        "outputId": "8f34a5b3-54b9-432e-c099-b3958311d181"
      },
      "execution_count": 37,
      "outputs": [
        {
          "output_type": "stream",
          "name": "stdout",
          "text": [
            "a shape = (1, 5), a = [[0. 0. 0. 0. 0.]]\n",
            "a shape = (2, 1), a = [[0.]\n",
            " [0.]]\n",
            "a shape = (1, 1), a = [[0.44236513]]\n"
          ]
        }
      ]
    },
    {
      "cell_type": "code",
      "source": [
        "# NumPy routines which allocate memory and fill with user specified values\n",
        "a = np.array([[5], [4], [3]]);   print(f\" a shape = {a.shape}, np.array: a = {a}\")\n",
        "\n",
        "a = np.array([[5],   # We can also\n",
        "              [4],   # separate values\n",
        "              [3]]); #into separate rows\n",
        "\n",
        "print(f\" a shape = {a.shape}, np.array: a = {a}\")"
      ],
      "metadata": {
        "colab": {
          "base_uri": "https://localhost:8080/"
        },
        "id": "5nUuc1Mkt61C",
        "outputId": "c98107eb-93c8-4048-a0a8-5054d2a4d205"
      },
      "execution_count": 39,
      "outputs": [
        {
          "output_type": "stream",
          "name": "stdout",
          "text": [
            " a shape = (3, 1), np.array: a = [[5]\n",
            " [4]\n",
            " [3]]\n",
            " a shape = (3, 1), np.array: a = [[5]\n",
            " [4]\n",
            " [3]]\n"
          ]
        }
      ]
    },
    {
      "cell_type": "markdown",
      "source": [
        "**Operations on Matrices**"
      ],
      "metadata": {
        "id": "gVzmuSYiuEde"
      }
    },
    {
      "cell_type": "code",
      "source": [
        "a = np.arange(6).reshape(-1, 2)   #reshape is a convenient way to create matrices\n",
        "print(f\"a.shape: {a.shape}, \\na= {a}\")\n",
        "\n",
        "# access an element\n",
        "print(f\"\\na[2,0].shape:   {a[2, 0].shape}, a[2,0] = {a[2, 0]},     type(a[2,0]) = {type(a[2, 0])} Accessing an element returns a scalar\\n\")\n",
        "\n",
        "# access a row\n",
        "print(f\"a[2].shape:   {a[2].shape}, a[2]   = {a[2]}, type(a[2])   = {type(a[2])}\")"
      ],
      "metadata": {
        "colab": {
          "base_uri": "https://localhost:8080/"
        },
        "id": "uNRKk1hguFeW",
        "outputId": "8fa78b86-cf11-4ddd-d6f8-c96493b14093"
      },
      "execution_count": 44,
      "outputs": [
        {
          "output_type": "stream",
          "name": "stdout",
          "text": [
            "a.shape: (3, 2), \n",
            "a= [[0 1]\n",
            " [2 3]\n",
            " [4 5]]\n",
            "\n",
            "a[2,0].shape:   (), a[2,0] = 4,     type(a[2,0]) = <class 'numpy.int64'> Accessing an element returns a scalar\n",
            "\n",
            "a[2].shape:   (2,), a[2]   = [4 5], type(a[2])   = <class 'numpy.ndarray'>\n"
          ]
        }
      ]
    },
    {
      "cell_type": "markdown",
      "source": [
        "**Slicing**"
      ],
      "metadata": {
        "id": "Mk7XQ1PMvI0U"
      }
    },
    {
      "cell_type": "code",
      "source": [
        "# Vector 2-D slicing operations\n",
        "a = np.arange(20).reshape(-1, 10)\n",
        "print(f\"a = \\n{a}\")\n",
        "\n",
        "# access 5 consecutive elements (start:stop:step)\n",
        "print(\"a[0, 2:7:1] = \", a[0, 2:7:1], \",  a[0, 2:7:1].shape =\", a[0, 2:7:1].shape, \"a 1-D array\")\n",
        "\n",
        "# access 5 consecutive elements (start:stop:step) in two rows\n",
        "print(\"a[:, 2:7:1] = \\n\", a[:, 2:7:1], \",  a[:, 2:7:1].shape =\", a[:, 2:7:1].shape, \"a 2-D array\")\n",
        "\n",
        "# access all elements\n",
        "print(\"a[:,:] = \\n\", a[:,:], \",  a[:,:].shape =\", a[:,:].shape)\n",
        "\n",
        "# access all elements in one row (very common usage)\n",
        "print(\"a[1,:] = \", a[1,:], \",  a[1,:].shape =\", a[1,:].shape, \"a 1-D array\")\n",
        "# same as\n",
        "print(\"a[1]   = \", a[1],   \",  a[1].shape   =\", a[1].shape, \"a 1-D array\")"
      ],
      "metadata": {
        "colab": {
          "base_uri": "https://localhost:8080/"
        },
        "id": "eyZsUse7vKrw",
        "outputId": "1b94cbb1-3d85-462c-dce7-32647b56ed8a"
      },
      "execution_count": 43,
      "outputs": [
        {
          "output_type": "stream",
          "name": "stdout",
          "text": [
            "a = \n",
            "[[ 0  1  2  3  4  5  6  7  8  9]\n",
            " [10 11 12 13 14 15 16 17 18 19]]\n",
            "a[0, 2:7:1] =  [2 3 4 5 6] ,  a[0, 2:7:1].shape = (5,) a 1-D array\n",
            "a[:, 2:7:1] = \n",
            " [[ 2  3  4  5  6]\n",
            " [12 13 14 15 16]] ,  a[:, 2:7:1].shape = (2, 5) a 2-D array\n",
            "a[:,:] = \n",
            " [[ 0  1  2  3  4  5  6  7  8  9]\n",
            " [10 11 12 13 14 15 16 17 18 19]] ,  a[:,:].shape = (2, 10)\n",
            "a[1,:] =  [10 11 12 13 14 15 16 17 18 19] ,  a[1,:].shape = (10,) a 1-D array\n",
            "a[1]   =  [10 11 12 13 14 15 16 17 18 19] ,  a[1].shape   = (10,) a 1-D array\n"
          ]
        }
      ]
    }
  ]
}